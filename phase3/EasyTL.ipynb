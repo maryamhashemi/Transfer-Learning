{
 "cells": [
  {
   "cell_type": "markdown",
   "metadata": {},
   "source": [
    "This file contains the code for paper [**Easy Transfer Learning By Exploiting Intra-domain Structures**](https://arxiv.org/pdf/1904.01376.pdf) published at **IEEE International Conference on Multimedia & Expo (ICME) 2019.**"
   ]
  },
  {
   "cell_type": "code",
   "execution_count": 88,
   "metadata": {},
   "outputs": [],
   "source": [
    "import pulp\n",
    "import time\n",
    "import scipy\n",
    "import scipy.io\n",
    "import scipy.stats\n",
    "import numpy as np"
   ]
  },
  {
   "cell_type": "markdown",
   "metadata": {},
   "source": [
    "## Intra-domain Programming"
   ]
  },
  {
   "cell_type": "markdown",
   "metadata": {},
   "source": [
    "Explanation for this function."
   ]
  },
  {
   "cell_type": "code",
   "execution_count": 89,
   "metadata": {},
   "outputs": [],
   "source": [
    "def get_class_center(Xs, Ys):\n",
    "    class_center = []\n",
    "    classes = np.unique(Ys)\n",
    "\n",
    "    for c in classes:\n",
    "        mask = Ys == c\n",
    "        Xi = Xs[mask.flatten()]\n",
    "        hc = np.mean(Xi, axis=0)\n",
    "        class_center.append(hc)\n",
    "\n",
    "    return np.asarray(class_center)"
   ]
  },
  {
   "cell_type": "markdown",
   "metadata": {},
   "source": [
    "Explanation for this function."
   ]
  },
  {
   "cell_type": "code",
   "execution_count": 90,
   "metadata": {},
   "outputs": [],
   "source": [
    "def get_distance_matrix(Xt, class_center):\n",
    "    nt = Xt.shape[0]\n",
    "    C = class_center.shape[0]\n",
    "\n",
    "    D = np.zeros((C, nt))\n",
    "\n",
    "    for i, hc in enumerate(class_center):\n",
    "        for j, xt in enumerate(Xt):\n",
    "            d = np.linalg.norm(xt - hc)\n",
    "            D[i][j] = d\n",
    "\n",
    "    return D"
   ]
  },
  {
   "cell_type": "markdown",
   "metadata": {},
   "source": [
    "Explanation for this function."
   ]
  },
  {
   "cell_type": "code",
   "execution_count": 91,
   "metadata": {},
   "outputs": [],
   "source": [
    "def solve_LP(C, nt, Dcj):\n",
    "\n",
    "    Dcj = abs(Dcj)\n",
    "    model = pulp.LpProblem('Cost_minimizing_problem', pulp.LpMinimize)\n",
    "    Mcj = pulp.LpVariable.dicts('Probabality',\n",
    "                                ((i, j) for i in range(C) for j in range(nt)),\n",
    "                                lowBound=0,\n",
    "                                upBound=1,\n",
    "                                cat='continous')\n",
    "    # Objective function\n",
    "    model += (pulp.lpSum(Dcj[(i, j)] * Mcj[(i, j)] for i in range(C)\n",
    "                         for j in range(nt)))\n",
    "\n",
    "    # Constarints\n",
    "    for j in range(nt):\n",
    "        model += pulp.lpSum([Mcj[(i, j)] for i in range(C)]) == 1\n",
    "\n",
    "    for i in range(C):\n",
    "        model += pulp.lpSum([Mcj[(i, j)] for j in range(nt)]) >= 1\n",
    "\n",
    "    # Solve the problem\n",
    "    model.solve()\n",
    "    pulp.LpStatus[model.status]\n",
    "    output = [[Mcj[i, j].varValue for i in range(C)] for j in range(nt)]\n",
    "\n",
    "    return np.array(output)"
   ]
  },
  {
   "cell_type": "markdown",
   "metadata": {},
   "source": [
    "Explanation for this function."
   ]
  },
  {
   "cell_type": "code",
   "execution_count": 92,
   "metadata": {},
   "outputs": [],
   "source": [
    "def intra_domain_programming(Xs, Ys, Xt, Yt):\n",
    "    C = len(np.unique(Ys))\n",
    "    nt = len(Yt)\n",
    "\n",
    "    class_center = get_class_center(Xs, Ys)\n",
    "    D = get_distance_matrix(Xt, class_center)\n",
    "    Mcj = solve_LP(C, nt, D)\n",
    "\n",
    "    y_pred = np.argmax(Mcj, axis=1)\n",
    "    acc = np.mean(y_pred == Yt.flatten())\n",
    "\n",
    "    return y_pred, acc"
   ]
  },
  {
   "cell_type": "markdown",
   "metadata": {},
   "source": [
    "## Intra_domain Alignment"
   ]
  },
  {
   "cell_type": "code",
   "execution_count": 93,
   "metadata": {},
   "outputs": [],
   "source": [
    "def intra_domain_Alignment(Xs, Xt):\n",
    "    cov_src = np.ma.cov(Xs.T)\n",
    "    cov_tar = np.ma.cov(Xt.T)\n",
    "       \n",
    "    Es = np.eye(Xs.shape[1])\n",
    "    Et = np.eye(Xt.shape[1])\n",
    "    \n",
    "    Cs = np.sqrt(np.linalg.inv(cov_src + Es))\n",
    "    Ct = np.sqrt(cov_tar + Et)\n",
    "    \n",
    "    coral = np.dot(Cs,Ct)\n",
    "    \n",
    "    Xs_new = np.dot(Xs,coral) \n",
    "    return Xs_new"
   ]
  },
  {
   "cell_type": "markdown",
   "metadata": {},
   "source": [
    "## EasyTL"
   ]
  },
  {
   "cell_type": "code",
   "execution_count": 94,
   "metadata": {},
   "outputs": [],
   "source": [
    "def EasyTL(Xs, Ys, Xt, Yt):\n",
    "    Xs_new = intra_domain_Alignment(Xs, Xt)\n",
    "    y_pred, acc = intra_domain_programming(Xs, Ys, Xt, Yt)\n",
    "    \n",
    "    return y_pred, acc"
   ]
  },
  {
   "cell_type": "markdown",
   "metadata": {},
   "source": [
    "## Experiments"
   ]
  },
  {
   "cell_type": "markdown",
   "metadata": {},
   "source": [
    "### Amazon Review dataset"
   ]
  },
  {
   "cell_type": "code",
   "execution_count": 95,
   "metadata": {},
   "outputs": [
    {
     "name": "stdout",
     "output_type": "stream",
     "text": [
      "books - dvd\n"
     ]
    },
    {
     "name": "stderr",
     "output_type": "stream",
     "text": [
      "C:\\Users\\maryam\\Anaconda3\\lib\\site-packages\\ipykernel_launcher.py:8: RuntimeWarning: invalid value encountered in sqrt\n",
      "  \n",
      "C:\\Users\\maryam\\Anaconda3\\lib\\site-packages\\ipykernel_launcher.py:9: RuntimeWarning: invalid value encountered in sqrt\n",
      "  if __name__ == '__main__':\n"
     ]
    },
    {
     "name": "stdout",
     "output_type": "stream",
     "text": [
      "Time Elapsed: 1.10 sec\n",
      "EasyTL Acc: 69.5 %\n",
      "books - elec\n",
      "Time Elapsed: 1.12 sec\n",
      "EasyTL Acc: 69.5 %\n",
      "books - kitchen\n",
      "Time Elapsed: 1.15 sec\n",
      "EasyTL Acc: 69.5 %\n",
      "dvd - books\n",
      "Time Elapsed: 1.02 sec\n",
      "EasyTL Acc: 73.8 %\n",
      "dvd - elec\n",
      "Time Elapsed: 1.09 sec\n",
      "EasyTL Acc: 73.8 %\n",
      "dvd - kitchen\n",
      "Time Elapsed: 1.12 sec\n",
      "EasyTL Acc: 73.8 %\n",
      "elec - books\n",
      "Time Elapsed: 1.15 sec\n",
      "EasyTL Acc: 78.2 %\n",
      "elec - dvd\n",
      "Time Elapsed: 1.20 sec\n",
      "EasyTL Acc: 78.2 %\n",
      "elec - kitchen\n",
      "Time Elapsed: 1.03 sec\n",
      "EasyTL Acc: 78.2 %\n",
      "kitchen - books\n",
      "Time Elapsed: 1.29 sec\n",
      "EasyTL Acc: 79.4 %\n",
      "kitchen - dvd\n",
      "Time Elapsed: 1.26 sec\n",
      "EasyTL Acc: 79.4 %\n",
      "kitchen - elec\n",
      "Time Elapsed: 1.09 sec\n",
      "EasyTL Acc: 79.4 %\n"
     ]
    }
   ],
   "source": [
    "datadir = 'Datasets/amazon_review/'\n",
    "domain = ['books', 'dvd', 'elec', 'kitchen']\n",
    "\n",
    "for i in range(len(domain)):\n",
    "    for j in range(len(domain)):\n",
    "        if i == j:\n",
    "            continue\n",
    "        print(\"{} - {}\".format(domain[i], domain[j]))\n",
    "\n",
    "        mat1 = scipy.io.loadmat(datadir + '/{}_400.mat'.format(domain[i]))\n",
    "        mat2 = scipy.io.loadmat(datadir + '/{}_400.mat'.format(domain[j]))\n",
    "\n",
    "        Xs = mat1['fts']\n",
    "        Ys = mat1['labels']\n",
    "\n",
    "        Xt = mat1['fts']\n",
    "        Yt = mat1['labels']\n",
    "\n",
    "        Xs[np.isnan(Xs)] = 0\n",
    "        Xt[np.isnan(Xt)] = 0\n",
    "\n",
    "        t0 = time.time()\n",
    "        _, Acc = EasyTL(Xs, Ys, Xt, Yt)\n",
    "        t1 = time.time()\n",
    "\n",
    "        print(\"Time Elapsed: {:.2f} sec\".format(t1 - t0))\n",
    "        print('EasyTL Acc: {:.1f} %'.format(Acc * 100))"
   ]
  },
  {
   "cell_type": "markdown",
   "metadata": {},
   "source": [
    "### Office-Caltech dataset"
   ]
  },
  {
   "cell_type": "code",
   "execution_count": null,
   "metadata": {},
   "outputs": [],
   "source": [
    "# Not implemented yet"
   ]
  },
  {
   "cell_type": "markdown",
   "metadata": {},
   "source": [
    "### Image-CLEF DA and Office-Home datasets"
   ]
  },
  {
   "cell_type": "code",
   "execution_count": 96,
   "metadata": {},
   "outputs": [],
   "source": [
    "# Not implemented yet"
   ]
  }
 ],
 "metadata": {
  "kernelspec": {
   "display_name": "Python 3",
   "language": "python",
   "name": "python3"
  },
  "language_info": {
   "codemirror_mode": {
    "name": "ipython",
    "version": 3
   },
   "file_extension": ".py",
   "mimetype": "text/x-python",
   "name": "python",
   "nbconvert_exporter": "python",
   "pygments_lexer": "ipython3",
   "version": "3.6.4"
  },
  "toc": {
   "base_numbering": 1,
   "nav_menu": {},
   "number_sections": true,
   "sideBar": true,
   "skip_h1_title": false,
   "title_cell": "Table of Contents",
   "title_sidebar": "Contents",
   "toc_cell": false,
   "toc_position": {},
   "toc_section_display": true,
   "toc_window_display": true
  }
 },
 "nbformat": 4,
 "nbformat_minor": 2
}
