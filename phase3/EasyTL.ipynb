{
 "cells": [
  {
   "cell_type": "markdown",
   "metadata": {},
   "source": [
    "This file contains the code for paper [**Easy Transfer Learning By Exploiting Intra-domain Structures**](https://arxiv.org/pdf/1904.01376.pdf) published at **IEEE International Conference on Multimedia & Expo (ICME) 2019.**"
   ]
  },
  {
   "cell_type": "code",
   "execution_count": 240,
   "metadata": {},
   "outputs": [],
   "source": [
    "import os\n",
    "import pulp\n",
    "import time\n",
    "import scipy\n",
    "import seaborn\n",
    "import scipy.io\n",
    "import scipy.stats\n",
    "import numpy as np\n",
    "import pandas as pd\n",
    "import matplotlib.pyplot as plt\n",
    "seaborn.set()"
   ]
  },
  {
   "cell_type": "markdown",
   "metadata": {},
   "source": [
    "## Intra-domain Programming"
   ]
  },
  {
   "cell_type": "markdown",
   "metadata": {},
   "source": [
    "Explanation for this function."
   ]
  },
  {
   "cell_type": "code",
   "execution_count": 2,
   "metadata": {},
   "outputs": [],
   "source": [
    "def get_class_center(Xs, Ys):\n",
    "    class_center = []\n",
    "    classes = np.unique(Ys)\n",
    "\n",
    "    for c in classes:\n",
    "        mask = Ys == c\n",
    "        Xi = Xs[mask.flatten()]\n",
    "        hc = np.mean(Xi, axis=0)\n",
    "        class_center.append(hc)\n",
    "\n",
    "    return np.asarray(class_center)"
   ]
  },
  {
   "cell_type": "markdown",
   "metadata": {},
   "source": [
    "Explanation for this function."
   ]
  },
  {
   "cell_type": "code",
   "execution_count": 3,
   "metadata": {},
   "outputs": [],
   "source": [
    "def get_distance_matrix(Xt, class_center):\n",
    "    nt = Xt.shape[0]\n",
    "    C = class_center.shape[0]\n",
    "\n",
    "    D = np.zeros((C, nt))\n",
    "\n",
    "    for i, hc in enumerate(class_center):\n",
    "        for j, xt in enumerate(Xt):\n",
    "            d = np.linalg.norm(xt - hc)\n",
    "            D[i][j] = d\n",
    "\n",
    "    return D"
   ]
  },
  {
   "cell_type": "markdown",
   "metadata": {},
   "source": [
    "Explanation for this function."
   ]
  },
  {
   "cell_type": "code",
   "execution_count": 4,
   "metadata": {},
   "outputs": [],
   "source": [
    "def solve_LP(C, nt, Dcj):\n",
    "\n",
    "    Dcj = abs(Dcj)\n",
    "    model = pulp.LpProblem('Cost_minimizing_problem', pulp.LpMinimize)\n",
    "    Mcj = pulp.LpVariable.dicts('Probabality',\n",
    "                                ((i, j) for i in range(C) for j in range(nt)),\n",
    "                                lowBound=0,\n",
    "                                upBound=1,\n",
    "                                cat='continous')\n",
    "    # Objective function\n",
    "    model += (pulp.lpSum(Dcj[(i, j)] * Mcj[(i, j)] for i in range(C)\n",
    "                         for j in range(nt)))\n",
    "\n",
    "    # Constarints\n",
    "    for j in range(nt):\n",
    "        model += pulp.lpSum([Mcj[(i, j)] for i in range(C)]) == 1\n",
    "\n",
    "    for i in range(C):\n",
    "        model += pulp.lpSum([Mcj[(i, j)] for j in range(nt)]) >= 1\n",
    "\n",
    "    # Solve the problem\n",
    "    model.solve()\n",
    "    pulp.LpStatus[model.status]\n",
    "    output = [[Mcj[i, j].varValue for i in range(C)] for j in range(nt)]\n",
    "\n",
    "    return np.array(output)"
   ]
  },
  {
   "cell_type": "markdown",
   "metadata": {},
   "source": [
    "Explanation for this function."
   ]
  },
  {
   "cell_type": "code",
   "execution_count": 5,
   "metadata": {},
   "outputs": [],
   "source": [
    "def intra_domain_programming(Xs, Ys, Xt, Yt):\n",
    "    C = len(np.unique(Ys))\n",
    "    nt = len(Yt)\n",
    "\n",
    "    class_center = get_class_center(Xs, Ys)\n",
    "    D = get_distance_matrix(Xt, class_center)\n",
    "    Mcj = solve_LP(C, nt, D)\n",
    "\n",
    "    y_pred = np.argmax(Mcj, axis=1)\n",
    "    acc = np.mean(y_pred == Yt.flatten())\n",
    "\n",
    "    return y_pred, acc"
   ]
  },
  {
   "cell_type": "markdown",
   "metadata": {},
   "source": [
    "## Intra_domain Alignment"
   ]
  },
  {
   "cell_type": "code",
   "execution_count": 6,
   "metadata": {},
   "outputs": [],
   "source": [
    "def intra_domain_alignment(Xs, Xt):\n",
    "    cov_src = np.ma.cov(Xs.T)\n",
    "    cov_tar = np.ma.cov(Xt.T)\n",
    "\n",
    "    Es = np.eye(Xs.shape[1])\n",
    "    Et = np.eye(Xt.shape[1])\n",
    "\n",
    "    Cs = scipy.linalg.sqrtm(np.linalg.inv(np.array(cov_src + Es)))\n",
    "    Ct = scipy.linalg.sqrtm(np.array(cov_tar + Et))\n",
    "\n",
    "    coral = np.dot(Cs, Ct)\n",
    "\n",
    "    Xs_new = np.dot(Xs, coral)\n",
    "    return Xs_new"
   ]
  },
  {
   "cell_type": "markdown",
   "metadata": {},
   "source": [
    "## EasyTL"
   ]
  },
  {
   "cell_type": "code",
   "execution_count": 7,
   "metadata": {},
   "outputs": [],
   "source": [
    "def EasyTL(Xs, Ys, Xt, Yt):\n",
    "    Xs = intra_domain_alignment(Xs, Xt)\n",
    "    y_pred, acc = intra_domain_programming(Xs, Ys, Xt, Yt)\n",
    "\n",
    "    return y_pred, acc"
   ]
  },
  {
   "cell_type": "code",
   "execution_count": 8,
   "metadata": {},
   "outputs": [],
   "source": [
    "def EasyTL_without_alignment(Xs, Ys, Xt, Yt):\n",
    "    y_pred, acc = intra_domain_programming(Xs, Ys, Xt, Yt)\n",
    "\n",
    "    return y_pred, acc"
   ]
  },
  {
   "cell_type": "markdown",
   "metadata": {},
   "source": [
    "## Experiments"
   ]
  },
  {
   "cell_type": "markdown",
   "metadata": {},
   "source": [
    "### Amazon Review dataset"
   ]
  },
  {
   "cell_type": "code",
   "execution_count": 274,
   "metadata": {},
   "outputs": [
    {
     "name": "stdout",
     "output_type": "stream",
     "text": [
      "books - dvd\n"
     ]
    },
    {
     "name": "stderr",
     "output_type": "stream",
     "text": [
      "C:\\Users\\maryam\\AppData\\Roaming\\Python\\Python36\\site-packages\\scipy\\stats\\stats.py:2419: RuntimeWarning: invalid value encountered in true_divide\n",
      "  return (a - mns) / sstd\n"
     ]
    },
    {
     "name": "stdout",
     "output_type": "stream",
     "text": [
      "EasyTL Time Elapsed: 1.71 sec\n",
      "EasyTL Acc: 79.8 %\n",
      "EasyTL without alignment Time Elapsed: 0.57 sec\n",
      "EasyTL without alignment Acc: 78.4 %\n",
      "books - elec\n",
      "EasyTL Time Elapsed: 1.73 sec\n",
      "EasyTL Acc: 79.7 %\n",
      "EasyTL without alignment Time Elapsed: 0.68 sec\n",
      "EasyTL without alignment Acc: 77.5 %\n",
      "books - kitchen\n",
      "EasyTL Time Elapsed: 1.87 sec\n",
      "EasyTL Acc: 80.9 %\n",
      "EasyTL without alignment Time Elapsed: 0.69 sec\n",
      "EasyTL without alignment Acc: 79.2 %\n",
      "dvd - books\n",
      "EasyTL Time Elapsed: 2.27 sec\n",
      "EasyTL Acc: 79.9 %\n",
      "EasyTL without alignment Time Elapsed: 0.51 sec\n",
      "EasyTL without alignment Acc: 79.5 %\n",
      "dvd - elec\n",
      "EasyTL Time Elapsed: 2.18 sec\n",
      "EasyTL Acc: 80.8 %\n",
      "EasyTL without alignment Time Elapsed: 0.88 sec\n",
      "EasyTL without alignment Acc: 77.4 %\n",
      "dvd - kitchen\n",
      "EasyTL Time Elapsed: 1.94 sec\n",
      "EasyTL Acc: 82.0 %\n",
      "EasyTL without alignment Time Elapsed: 0.57 sec\n",
      "EasyTL without alignment Acc: 80.4 %\n",
      "elec - books\n",
      "EasyTL Time Elapsed: 1.96 sec\n",
      "EasyTL Acc: 75.0 %\n",
      "EasyTL without alignment Time Elapsed: 0.66 sec\n",
      "EasyTL without alignment Acc: 73.0 %\n",
      "elec - dvd\n",
      "EasyTL Time Elapsed: 2.52 sec\n",
      "EasyTL Acc: 75.3 %\n",
      "EasyTL without alignment Time Elapsed: 0.71 sec\n",
      "EasyTL without alignment Acc: 73.1 %\n",
      "elec - kitchen\n",
      "EasyTL Time Elapsed: 2.35 sec\n",
      "EasyTL Acc: 84.9 %\n",
      "EasyTL without alignment Time Elapsed: 0.66 sec\n",
      "EasyTL without alignment Acc: 84.6 %\n",
      "kitchen - books\n",
      "EasyTL Time Elapsed: 1.74 sec\n",
      "EasyTL Acc: 76.5 %\n",
      "EasyTL without alignment Time Elapsed: 0.69 sec\n",
      "EasyTL without alignment Acc: 75.1 %\n",
      "kitchen - dvd\n",
      "EasyTL Time Elapsed: 2.10 sec\n",
      "EasyTL Acc: 76.3 %\n",
      "EasyTL without alignment Time Elapsed: 0.93 sec\n",
      "EasyTL without alignment Acc: 73.8 %\n",
      "kitchen - elec\n",
      "EasyTL Time Elapsed: 1.75 sec\n",
      "EasyTL Acc: 82.5 %\n",
      "EasyTL without alignment Time Elapsed: 0.56 sec\n",
      "EasyTL without alignment Acc: 82.0 %\n"
     ]
    }
   ],
   "source": [
    "datadir = 'Datasets/amazon_review/'\n",
    "domain = ['books', 'dvd', 'elec', 'kitchen']\n",
    "task = []\n",
    "EasyTL_Acc = []\n",
    "EasyTL_time = []\n",
    "EasyTL_without_alignment_Acc = []\n",
    "EasyTL_without_alignment_time = []\n",
    "\n",
    "for i in range(len(domain)):\n",
    "    for j in range(len(domain)):\n",
    "        if i == j:\n",
    "            continue\n",
    "        print(\"{} - {}\".format(domain[i], domain[j]))\n",
    "        task.append(\"{} - {}\".format(domain[i], domain[j]))\n",
    "        \n",
    "        mat1 = scipy.io.loadmat(datadir + '/{}_400.mat'.format(domain[i]))\n",
    "        mat2 = scipy.io.loadmat(datadir + '/{}_400.mat'.format(domain[j]))\n",
    "\n",
    "        Xs = mat1['fts']\n",
    "        Ys = mat1['labels']\n",
    "\n",
    "        Xt = mat2['fts']\n",
    "        Yt = mat2['labels']\n",
    "\n",
    "        Xs = Xs / np.tile(np.sum(Xs, axis=1).reshape(-1, 1), [1, Xs.shape[1]])\n",
    "        Xs = scipy.stats.mstats.zscore(Xs)\n",
    "        Xt = Xt / np.tile(np.sum(Xt, axis=1).reshape(-1, 1), [1, Xt.shape[1]])\n",
    "        Xt = scipy.stats.mstats.zscore(Xt)\n",
    "        \n",
    "        Xs[np.isnan(Xs)] = 0\n",
    "        Xt[np.isnan(Xt)] = 0\n",
    "\n",
    "        t0 = time.time()\n",
    "        _, Acc = EasyTL(Xs, Ys, Xt, Yt)\n",
    "        t1 = time.time()\n",
    "        print(\"EasyTL Time Elapsed: {:.2f} sec\".format(t1 - t0))\n",
    "        print('EasyTL Acc: {:.1f} %'.format(Acc * 100)) \n",
    "        EasyTL_Acc.append('{:.1f} %'.format(Acc * 100))\n",
    "        EasyTL_time.append('{:.2f}'.format(t1 - t0))\n",
    "        \n",
    "        t0 = time.time()\n",
    "        _, Acc = EasyTL_without_alignment(Xs, Ys, Xt, Yt)\n",
    "        t1 = time.time()\n",
    "        print(\"EasyTL without alignment Time Elapsed: {:.2f} sec\".format(t1 - t0))\n",
    "        print('EasyTL without alignment Acc: {:.1f} %'.format(Acc * 100)) \n",
    "        EasyTL_without_alignment_Acc.append('{:.1f} %'.format(Acc * 100))\n",
    "        EasyTL_without_alignment_time.append('{:.2f}'.format(t1 - t0))  "
   ]
  },
  {
   "cell_type": "code",
   "execution_count": 275,
   "metadata": {},
   "outputs": [
    {
     "data": {
      "image/png": "[encoded data removed]",
      "text/plain": [
       "<Figure size 432x288 with 1 Axes>"
      ]
     },
     "metadata": {},
     "output_type": "display_data"
    }
   ],
   "source": [
    "df = pd.DataFrame({\n",
    "    'Task': task,\n",
    "    'EasyTL': EasyTL_Acc,\n",
    "    'EasyTL\\nwithout\\nalignment': EasyTL_without_alignment_Acc\n",
    "})[['Task', 'EasyTL', 'EasyTL\\nwithout\\nalignment']]\n",
    "\n",
    "table = plt.table(cellText=df.values,\n",
    "                  colWidths=[0.35, 0.15, 0.18],\n",
    "                  colLabels=df.columns,\n",
    "                  cellLoc='center',\n",
    "                  loc='upper center')\n",
    "table.auto_set_font_size(False)\n",
    "table.set_fontsize(12)\n",
    "table.scale(1, 2)\n",
    "\n",
    "for i in range(0, 3):\n",
    "    table[(0, i)].set_height(.2)\n",
    "    table[(0, i)].set_fontsize(12)\n",
    "    table[(0, i)].set_text_props(fontweight=\"bold\")\n",
    "\n",
    "for i in range(len(task) + 1):\n",
    "    for j in range(0, 3):\n",
    "        if i == 0:\n",
    "            table[(i, j)].set_facecolor(\"#6886c5\")\n",
    "        elif i % 3 == 0:\n",
    "            table[(i, j)].set_facecolor(\"#ffacb7\")\n",
    "        elif i % 3 == 1:\n",
    "            table[(i, j)].set_facecolor(\"#ffe0ac\")\n",
    "        else:\n",
    "            table[(i, j)].set_facecolor(\"#f9f9f9\")\n",
    "\n",
    "title = 'Accuracy on Amazon Review dataset'\n",
    "plt.title(title, fontweight=\"bold\")\n",
    "plt.axis('off')\n",
    "\n",
    "plt.savefig(title + '.jpg', bbox_inches=\"tight\", dpi=300)\n",
    "\n",
    "plt.show()"
   ]
  },
  {
   "cell_type": "markdown",
   "metadata": {},
   "source": [
    "### Office-Caltech dataset"
   ]
  },
  {
   "cell_type": "code",
   "execution_count": 276,
   "metadata": {},
   "outputs": [
    {
     "name": "stdout",
     "output_type": "stream",
     "text": [
      "caltech10 - amazon\n",
      "EasyTL Time Elapsed: 4.92 sec\n",
      "EasyTL Acc: 52.6 %\n",
      "EasyTL without alignment Time Elapsed: 1.30 sec\n",
      "EasyTL without alignment Acc: 50.1 %\n",
      "caltech10 - webcam\n",
      "EasyTL Time Elapsed: 4.96 sec\n",
      "EasyTL Acc: 53.9 %\n",
      "EasyTL without alignment Time Elapsed: 0.49 sec\n",
      "EasyTL without alignment Acc: 49.5 %\n",
      "caltech10 - dslr\n",
      "EasyTL Time Elapsed: 3.68 sec\n",
      "EasyTL Acc: 51.6 %\n",
      "EasyTL without alignment Time Elapsed: 0.19 sec\n",
      "EasyTL without alignment Acc: 48.4 %\n",
      "amazon - caltech10\n",
      "EasyTL Time Elapsed: 5.25 sec\n",
      "EasyTL Acc: 42.3 %\n",
      "EasyTL without alignment Time Elapsed: 1.57 sec\n",
      "EasyTL without alignment Acc: 43.0 %\n",
      "amazon - webcam\n",
      "EasyTL Time Elapsed: 3.79 sec\n",
      "EasyTL Acc: 43.1 %\n",
      "EasyTL without alignment Time Elapsed: 0.38 sec\n",
      "EasyTL without alignment Acc: 40.7 %\n",
      "amazon - dslr\n",
      "EasyTL Time Elapsed: 3.59 sec\n",
      "EasyTL Acc: 48.4 %\n",
      "EasyTL without alignment Time Elapsed: 0.22 sec\n",
      "EasyTL without alignment Acc: 38.9 %\n",
      "webcam - caltech10\n",
      "EasyTL Time Elapsed: 4.15 sec\n",
      "EasyTL Acc: 35.4 %\n",
      "EasyTL without alignment Time Elapsed: 1.70 sec\n",
      "EasyTL without alignment Acc: 29.7 %\n",
      "webcam - amazon\n",
      "EasyTL Time Elapsed: 4.40 sec\n",
      "EasyTL Acc: 38.2 %\n",
      "EasyTL without alignment Time Elapsed: 1.62 sec\n",
      "EasyTL without alignment Acc: 35.2 %\n",
      "webcam - dslr\n",
      "EasyTL Time Elapsed: 2.62 sec\n",
      "EasyTL Acc: 79.6 %\n",
      "EasyTL without alignment Time Elapsed: 0.20 sec\n",
      "EasyTL without alignment Acc: 77.1 %\n",
      "dslr - caltech10\n",
      "EasyTL Time Elapsed: 4.76 sec\n",
      "EasyTL Acc: 36.1 %\n",
      "EasyTL without alignment Time Elapsed: 1.87 sec\n",
      "EasyTL without alignment Acc: 31.2 %\n",
      "dslr - amazon\n",
      "EasyTL Time Elapsed: 4.34 sec\n",
      "EasyTL Acc: 38.3 %\n",
      "EasyTL without alignment Time Elapsed: 1.36 sec\n",
      "EasyTL without alignment Acc: 31.9 %\n",
      "dslr - webcam\n",
      "EasyTL Time Elapsed: 2.73 sec\n",
      "EasyTL Acc: 86.1 %\n",
      "EasyTL without alignment Time Elapsed: 0.40 sec\n",
      "EasyTL without alignment Acc: 69.5 %\n"
     ]
    }
   ],
   "source": [
    "datadir = 'Datasets/surf/'\n",
    "domain = ['caltech10', 'amazon', 'webcam', 'dslr']\n",
    "task = []\n",
    "EasyTL_Acc = []\n",
    "EasyTL_time = []\n",
    "EasyTL_without_alignment_Acc = []\n",
    "EasyTL_without_alignment_time = []\n",
    "\n",
    "for i in range(len(domain)):\n",
    "    for j in range(len(domain)):\n",
    "        if i == j:\n",
    "            continue\n",
    "            \n",
    "        print(\"{} - {}\".format(domain[i], domain[j]))\n",
    "        task.append(\"{} - {}\".format(domain[i], domain[j]))\n",
    "        \n",
    "        mat1 = scipy.io.loadmat(datadir + '/{}_SURF_L10.mat'.format(domain[i]))\n",
    "        mat2 = scipy.io.loadmat(datadir + '/{}_SURF_L10.mat'.format(domain[j]))\n",
    "\n",
    "        Xs = mat1['fts']\n",
    "        Ys = mat1['labels'] - 1\n",
    "\n",
    "        Xt = mat2['fts']\n",
    "        Yt = mat2['labels'] - 1\n",
    "\n",
    "        Xs = Xs / np.tile(np.sum(Xs, axis=1).reshape(-1, 1), [1, Xs.shape[1]])\n",
    "        Xs = scipy.stats.mstats.zscore(Xs)\n",
    "        Xt = Xt / np.tile(np.sum(Xt, axis=1).reshape(-1, 1), [1, Xt.shape[1]])\n",
    "        Xt = scipy.stats.mstats.zscore(Xt)\n",
    "\n",
    "        Xs[np.isnan(Xs)] = 0\n",
    "        Xt[np.isnan(Xt)] = 0\n",
    "\n",
    "        t0 = time.time()\n",
    "        _, Acc = EasyTL(Xs, Ys, Xt, Yt)\n",
    "        t1 = time.time()\n",
    "        print(\"EasyTL Time Elapsed: {:.2f} sec\".format(t1 - t0))\n",
    "        print('EasyTL Acc: {:.1f} %'.format(Acc * 100)) \n",
    "        EasyTL_Acc.append('{:.1f} %'.format(Acc * 100))\n",
    "        EasyTL_time.append('{:.2f}'.format(t1 - t0))\n",
    "        \n",
    "        t0 = time.time()\n",
    "        _, Acc = EasyTL_without_alignment(Xs, Ys, Xt, Yt)\n",
    "        t1 = time.time()\n",
    "        print(\"EasyTL without alignment Time Elapsed: {:.2f} sec\".format(t1 - t0))\n",
    "        print('EasyTL without alignment Acc: {:.1f} %'.format(Acc * 100)) \n",
    "        EasyTL_without_alignment_Acc.append('{:.1f} %'.format(Acc * 100))\n",
    "        EasyTL_without_alignment_time.append('{:.2f}'.format(t1 - t0))  "
   ]
  },
  {
   "cell_type": "code",
   "execution_count": 277,
   "metadata": {},
   "outputs": [
    {
     "data": {
      "image/png": "[encoded data removed]",
      "text/plain": [
       "<Figure size 432x288 with 1 Axes>"
      ]
     },
     "metadata": {},
     "output_type": "display_data"
    }
   ],
   "source": [
    "df = pd.DataFrame({\n",
    "    'Task': task,\n",
    "    'EasyTL': EasyTL_Acc,\n",
    "    'EasyTL\\nwithout\\nalignment': EasyTL_without_alignment_Acc\n",
    "})[['Task', 'EasyTL', 'EasyTL\\nwithout\\nalignment']]\n",
    "\n",
    "table = plt.table(cellText=df.values,\n",
    "                  colWidths=[0.35, 0.15, 0.18],\n",
    "                  colLabels=df.columns,\n",
    "                  cellLoc='center',\n",
    "                  loc='upper center')\n",
    "table.auto_set_font_size(False)\n",
    "table.set_fontsize(12)\n",
    "table.scale(1, 2)\n",
    "\n",
    "for i in range(0, 3):\n",
    "    table[(0, i)].set_height(.2)\n",
    "    table[(0, i)].set_fontsize(12)\n",
    "    table[(0, i)].set_text_props(fontweight=\"bold\")\n",
    "\n",
    "for i in range(len(task) + 1):\n",
    "    for j in range(0, 3):\n",
    "        if i == 0:\n",
    "            table[(i, j)].set_facecolor(\"#6886c5\")\n",
    "        elif i % 3 == 0:\n",
    "            table[(i, j)].set_facecolor(\"#ffacb7\")\n",
    "        elif i % 3 == 1:\n",
    "            table[(i, j)].set_facecolor(\"#ffe0ac\")\n",
    "        else:\n",
    "            table[(i, j)].set_facecolor(\"#f9f9f9\")\n",
    "\n",
    "title = 'Accuracy on Office-Caltech dataset'\n",
    "plt.title(title, fontweight=\"bold\")\n",
    "plt.axis('off')\n",
    "\n",
    "plt.savefig(title + '.jpg', bbox_inches=\"tight\", dpi=300)\n",
    "\n",
    "plt.show()"
   ]
  },
  {
   "cell_type": "markdown",
   "metadata": {},
   "source": [
    "### Image-CLEF DA dataset"
   ]
  },
  {
   "cell_type": "code",
   "execution_count": 255,
   "metadata": {},
   "outputs": [
    {
     "name": "stdout",
     "output_type": "stream",
     "text": [
      "c - i\n",
      "EasyTL Time Elapsed: 31.34 sec\n",
      "EasyTL Acc: 91.5 %\n",
      "EasyTL without alignment Time Elapsed: 1.01 sec\n",
      "EasyTL without alignment Acc: 85.5 %\n",
      "c - p\n",
      "EasyTL Time Elapsed: 31.70 sec\n",
      "EasyTL Acc: 77.7 %\n",
      "EasyTL without alignment Time Elapsed: 1.11 sec\n",
      "EasyTL without alignment Acc: 72.0 %\n",
      "i - c\n",
      "EasyTL Time Elapsed: 31.19 sec\n",
      "EasyTL Acc: 96.0 %\n",
      "EasyTL without alignment Time Elapsed: 0.90 sec\n",
      "EasyTL without alignment Acc: 93.3 %\n",
      "i - p\n",
      "EasyTL Time Elapsed: 31.03 sec\n",
      "EasyTL Acc: 78.7 %\n",
      "EasyTL without alignment Time Elapsed: 1.33 sec\n",
      "EasyTL without alignment Acc: 78.5 %\n",
      "p - c\n",
      "EasyTL Time Elapsed: 30.08 sec\n",
      "EasyTL Acc: 95.0 %\n",
      "EasyTL without alignment Time Elapsed: 0.98 sec\n",
      "EasyTL without alignment Acc: 91.0 %\n",
      "p - i\n",
      "EasyTL Time Elapsed: 30.78 sec\n",
      "EasyTL Acc: 90.3 %\n",
      "EasyTL without alignment Time Elapsed: 1.41 sec\n",
      "EasyTL without alignment Acc: 89.5 %\n"
     ]
    }
   ],
   "source": [
    "domain = ['c', 'i', 'p']\n",
    "datadir = 'Datasets/imageCLEF_resnet50/'\n",
    "task = []\n",
    "EasyTL_Acc = []\n",
    "EasyTL_time = []\n",
    "EasyTL_without_alignment_Acc = []\n",
    "EasyTL_without_alignment_time = []\n",
    "\n",
    "for i in range(len(domain)):\n",
    "    for j in range(len(domain)):\n",
    "        if i == j:\n",
    "            continue\n",
    "        print(\"{} - {}\".format(domain[i], domain[j]))\n",
    "        task.append(\"{} - {}\".format(domain[i], domain[j]))\n",
    "        \n",
    "        src = domain[i]\n",
    "        tar = domain[j]\n",
    "\n",
    "        x1file = \"{}_{}.csv\".format(src, src)\n",
    "        x2file = \"{}_{}.csv\".format(src, tar)\n",
    "\n",
    "        df1 = pd.read_csv(os.path.join(datadir, x1file), header=None)\n",
    "        Xs = df1.values[:, :-1]\n",
    "        Ys = df1.values[:, -1]\n",
    "\n",
    "        df2 = pd.read_csv(os.path.join(datadir, x2file), header=None)\n",
    "        Xt = df2.values[:, :-1]\n",
    "        Yt = df2.values[:, -1]\n",
    "\n",
    "        Xs = Xs / np.tile(np.sum(Xs, axis=1).reshape(-1, 1), [1, Xs.shape[1]])\n",
    "        Xs = scipy.stats.mstats.zscore(Xs)\n",
    "        Xt = Xt / np.tile(np.sum(Xt, axis=1).reshape(-1, 1), [1, Xt.shape[1]])\n",
    "        Xt = scipy.stats.mstats.zscore(Xt)\n",
    "\n",
    "        t0 = time.time()\n",
    "        _, Acc = EasyTL(Xs, Ys, Xt, Yt)\n",
    "        t1 = time.time()\n",
    "        print(\"EasyTL Time Elapsed: {:.2f} sec\".format(t1 - t0))\n",
    "        print('EasyTL Acc: {:.1f} %'.format(Acc * 100)) \n",
    "        EasyTL_Acc.append('{:.1f} %'.format(Acc * 100))\n",
    "        EasyTL_time.append('{:.2f}'.format(t1 - t0))\n",
    "        \n",
    "        t0 = time.time()\n",
    "        _, Acc = EasyTL_without_alignment(Xs, Ys, Xt, Yt)\n",
    "        t1 = time.time()\n",
    "        print(\"EasyTL without alignment Time Elapsed: {:.2f} sec\".format(t1 - t0))\n",
    "        print('EasyTL without alignment Acc: {:.1f} %'.format(Acc * 100)) \n",
    "        EasyTL_without_alignment_Acc.append('{:.1f} %'.format(Acc * 100))\n",
    "        EasyTL_without_alignment_time.append('{:.2f}'.format(t1 - t0)) "
   ]
  },
  {
   "cell_type": "code",
   "execution_count": 273,
   "metadata": {},
   "outputs": [
    {
     "data": {
      "image/png": "[encoded data removed]",
      "text/plain": [
       "<Figure size 432x288 with 1 Axes>"
      ]
     },
     "metadata": {},
     "output_type": "display_data"
    }
   ],
   "source": [
    "df = pd.DataFrame({\n",
    "    'Task': task,\n",
    "    'EasyTL': EasyTL_Acc,\n",
    "    'EasyTL\\nwithout\\nalignment': EasyTL_without_alignment_Acc\n",
    "})[['Task', 'EasyTL', 'EasyTL\\nwithout\\nalignment']]\n",
    "\n",
    "table = plt.table(cellText=df.values,\n",
    "                  colWidths=[0.35, 0.15, 0.18],\n",
    "                  colLabels=df.columns,\n",
    "                  cellLoc='center',\n",
    "                  loc='upper center')\n",
    "table.auto_set_font_size(False)\n",
    "table.set_fontsize(12)\n",
    "table.scale(1, 2)\n",
    "\n",
    "for i in range(0, 3):\n",
    "    table[(0, i)].set_height(.2)\n",
    "    table[(0, i)].set_fontsize(12)\n",
    "    table[(0, i)].set_text_props(fontweight=\"bold\")\n",
    "\n",
    "for i in range(len(task) + 1):\n",
    "    for j in range(0, 3):\n",
    "        if i == 0:\n",
    "            table[(i, j)].set_facecolor(\"#6886c5\")\n",
    "        elif i % 3 == 0:\n",
    "            table[(i, j)].set_facecolor(\"#ffacb7\")\n",
    "        elif i % 3 == 1:\n",
    "            table[(i, j)].set_facecolor(\"#ffe0ac\")\n",
    "        else:\n",
    "            table[(i, j)].set_facecolor(\"#f9f9f9\")\n",
    "\n",
    "title = 'Accuracy on Image-CLEF DA dataset'\n",
    "plt.title(title, fontweight=\"bold\")\n",
    "plt.axis('off')\n",
    "\n",
    "plt.savefig(title + '.jpg', bbox_inches=\"tight\", dpi=300)\n",
    "\n",
    "plt.show()"
   ]
  },
  {
   "cell_type": "markdown",
   "metadata": {},
   "source": [
    "### Office-Home dataset"
   ]
  },
  {
   "cell_type": "code",
   "execution_count": 12,
   "metadata": {},
   "outputs": [],
   "source": [
    "# not implemented yet"
   ]
  }
 ],
 "metadata": {
  "kernelspec": {
   "display_name": "Python 3",
   "language": "python",
   "name": "python3"
  },
  "language_info": {
   "codemirror_mode": {
    "name": "ipython",
    "version": 3
   },
   "file_extension": ".py",
   "mimetype": "text/x-python",
   "name": "python",
   "nbconvert_exporter": "python",
   "pygments_lexer": "ipython3",
   "version": "3.6.4"
  },
  "toc": {
   "base_numbering": 1,
   "nav_menu": {},
   "number_sections": true,
   "sideBar": true,
   "skip_h1_title": false,
   "title_cell": "Table of Contents",
   "title_sidebar": "Contents",
   "toc_cell": false,
   "toc_position": {},
   "toc_section_display": true,
   "toc_window_display": true
  }
 },
 "nbformat": 4,
 "nbformat_minor": 2
}
