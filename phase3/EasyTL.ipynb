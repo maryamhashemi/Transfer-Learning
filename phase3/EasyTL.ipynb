{
 "cells": [
  {
   "cell_type": "markdown",
   "metadata": {},
   "source": [
    "This file contains the code for paper [**Easy Transfer Learning By Exploiting Intra-domain Structures**](https://arxiv.org/pdf/1904.01376.pdf) published at **IEEE International Conference on Multimedia & Expo (ICME) 2019.**"
   ]
  },
  {
   "cell_type": "code",
   "execution_count": 7,
   "metadata": {},
   "outputs": [],
   "source": [
    "import pulp\n",
    "import scipy\n",
    "import numpy as np"
   ]
  },
  {
   "cell_type": "markdown",
   "metadata": {},
   "source": [
    "## Intra-domain Programming"
   ]
  },
  {
   "cell_type": "markdown",
   "metadata": {},
   "source": [
    "Explanation for this function."
   ]
  },
  {
   "cell_type": "code",
   "execution_count": 8,
   "metadata": {},
   "outputs": [],
   "source": [
    "def get_class_center(Xs, Ys):\n",
    "    class_center = []\n",
    "    classes = np.unique(Ys)\n",
    "\n",
    "    for c in classes:\n",
    "        mask = Ys == c\n",
    "        Xi = Xs[mask.flatten()]\n",
    "        hc = np.mean(Xi, axis=0)\n",
    "        class_center.append(hc)\n",
    "\n",
    "    return np.asarray(class_center)"
   ]
  },
  {
   "cell_type": "markdown",
   "metadata": {},
   "source": [
    "Explanation for this function."
   ]
  },
  {
   "cell_type": "code",
   "execution_count": 9,
   "metadata": {},
   "outputs": [],
   "source": [
    "def get_distance_matrix(Xt, class_center):\n",
    "    nt = Xt.shape[0]\n",
    "    C = class_center.shape[0]\n",
    "\n",
    "    D = np.zeros((C, nt))\n",
    "\n",
    "    for i, hc in enumerate(class_center):\n",
    "        for j, xt in enumerate(Xt):\n",
    "            d = np.linalg.norm(xt - hc)\n",
    "            D[i][j] = d\n",
    "\n",
    "    return D"
   ]
  },
  {
   "cell_type": "markdown",
   "metadata": {},
   "source": [
    "Explanation for this function."
   ]
  },
  {
   "cell_type": "code",
   "execution_count": 10,
   "metadata": {},
   "outputs": [],
   "source": [
    "def solve_LP(C, nt, Dcj):\n",
    "\n",
    "    Dcj = abs(Dcj)\n",
    "    model = pulp.LpProblem('Cost minimizing problem', pulp.LpMinimize)\n",
    "    Mcj = pulp.LpVariable.dicts('Probabality',\n",
    "                                ((i, j) for i in range(C) for j in range(nt)),\n",
    "                                lowBound=0,\n",
    "                                upBound=1,\n",
    "                                cat='continous')\n",
    "    # Objective function\n",
    "    model += (pulp.lpSum(Dcj[(i, j)] * Mcj[(i, j)] for i in range(C)\n",
    "                         for j in range(nt)))\n",
    "\n",
    "    # Constarints\n",
    "    for j in range(nt):\n",
    "        model += pulp.lpSum([Mcj[(i, j)] for i in range(C)]) == 1\n",
    "\n",
    "    for i in range(C):\n",
    "        model += pulp.lpSum([Mcj[(i, j)] for j in range(nt)]) >= 1\n",
    "\n",
    "    # Solve the problem\n",
    "    model.solve()\n",
    "    pulp.LpStatus[model.status]\n",
    "    output = [[Mcj[i, j].varValue for i in range(C)] for j in range(nt)]\n",
    "\n",
    "    return np.array(output)"
   ]
  },
  {
   "cell_type": "markdown",
   "metadata": {},
   "source": [
    "Explanation for this function."
   ]
  },
  {
   "cell_type": "code",
   "execution_count": 11,
   "metadata": {},
   "outputs": [],
   "source": [
    "def intra_domain_programming(Xs, Ys, Xt, Yt):\n",
    "    C = len(np.unique(Ys))\n",
    "    nt = len(Yt)\n",
    "\n",
    "    class_center = get_class_center(Xs, Ys)\n",
    "    D = get_distance_matrix(Xt, class_center)\n",
    "    Mcj = solve_LP(C, nt, D)\n",
    "\n",
    "    y_pred = np.argmax(Mcj, axis=1)\n",
    "    acc = np.mean(y_pred == Yt.flatten())\n",
    "\n",
    "    return y_pred, acc"
   ]
  },
  {
   "cell_type": "markdown",
   "metadata": {},
   "source": [
    "## Intra_domain Alignment"
   ]
  },
  {
   "cell_type": "code",
   "execution_count": 12,
   "metadata": {},
   "outputs": [],
   "source": [
    "def intra_domain_Alignment(Xs, Xt):\n",
    "    cov_src = np.cov(Xs)\n",
    "    cov_tar = np.cov(Xt)\n",
    "    \n",
    "    Es = np.eye(Xs.shape[1])\n",
    "    Et = np.eye(Xt.shape[1])\n",
    "    \n",
    "    Cs = scipy.linalg.sqrtm(np.linalg.inv(cov_src + Es))\n",
    "    Ct = scipy.linalg.sqrtm(cov_tar + Et)\n",
    "    \n",
    "    coral = np.dot(Cs,Ct)\n",
    "    \n",
    "    Xs_new = np.dot(Xs,coral) \n",
    "    return"
   ]
  },
  {
   "cell_type": "markdown",
   "metadata": {},
   "source": [
    "## Experiments"
   ]
  },
  {
   "cell_type": "code",
   "execution_count": 13,
   "metadata": {},
   "outputs": [],
   "source": [
    "# Not implemented yet"
   ]
  }
 ],
 "metadata": {
  "kernelspec": {
   "display_name": "Python 3",
   "language": "python",
   "name": "python3"
  },
  "language_info": {
   "codemirror_mode": {
    "name": "ipython",
    "version": 3
   },
   "file_extension": ".py",
   "mimetype": "text/x-python",
   "name": "python",
   "nbconvert_exporter": "python",
   "pygments_lexer": "ipython3",
   "version": "3.6.4"
  },
  "toc": {
   "base_numbering": 1,
   "nav_menu": {},
   "number_sections": true,
   "sideBar": true,
   "skip_h1_title": false,
   "title_cell": "Table of Contents",
   "title_sidebar": "Contents",
   "toc_cell": false,
   "toc_position": {},
   "toc_section_display": true,
   "toc_window_display": true
  }
 },
 "nbformat": 4,
 "nbformat_minor": 2
}
